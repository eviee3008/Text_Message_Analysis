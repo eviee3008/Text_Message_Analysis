{
 "cells": [
  {
   "cell_type": "code",
   "execution_count": null,
   "id": "cc59a15c-520b-4757-a810-5c9994b1619b",
   "metadata": {},
   "outputs": [],
   "source": [
    "def sentimentAnalysis(dl):\n",
    "    dl = pd.read_csv(dl)\n",
    "    dl['sentiment'] = dl['Content'].apply(lambda x: TextBlob(str(x)).sentiment.polarity)\n",
    "    \n",
    "    def categorize_sentiment(score):\n",
    "        if score > 0:\n",
    "            return 'positive'\n",
    "        elif score < 0:\n",
    "            return 'negative'\n",
    "        else:\n",
    "            return 'neutral'\n",
    "\n",
    "    # Apply the function to create a new column with sentiment categories\n",
    "    dl['sentiment_category'] = dl['sentiment'].apply(categorize_sentiment)\n",
    "    \n",
    "    return dl[['Author','Content','sentiment', 'sentiment_category']]\n",
    "\n"
   ]
  }
 ],
 "metadata": {
  "kernelspec": {
   "display_name": "Python 3 (ipykernel)",
   "language": "python",
   "name": "python3"
  },
  "language_info": {
   "codemirror_mode": {
    "name": "ipython",
    "version": 3
   },
   "file_extension": ".py",
   "mimetype": "text/x-python",
   "name": "python",
   "nbconvert_exporter": "python",
   "pygments_lexer": "ipython3",
   "version": "3.10.9"
  }
 },
 "nbformat": 4,
 "nbformat_minor": 5
}
